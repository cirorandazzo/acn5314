{
 "cells": [
  {
   "cell_type": "markdown",
   "metadata": {},
   "source": [
    "recoding.ipynb\n",
    "\n",
    "Recode data for ACN5314 Group Project, CRCNS pfc-6 data.\n",
    "\n",
    "Last edit:  23 MAR 2022, CDR ||\n",
    "Created:    08 MAR 2022, CDR"
   ]
  },
  {
   "cell_type": "code",
   "execution_count": null,
   "metadata": {},
   "outputs": [],
   "source": [
    "import pandas as pd\n",
    "import numpy as np\n",
    "from scipy import signal"
   ]
  },
  {
   "cell_type": "code",
   "execution_count": null,
   "metadata": {},
   "outputs": [],
   "source": [
    "# DECLARE GLOBALS\n",
    "\n",
    "\n",
    "# Folder containing all session data\n",
    "data_folder = '../pfc-6/mPFC_Data'\n",
    "\n",
    "# column headers (see pfc-6 documentation for details)\n",
    "df_headers = {\n",
    "    \"Behavior\"  :    ['trialStart', 'trialEnd', 'rule', 'correct', 'direction','lightPos'],\n",
    "    \"SpikeData\" :   ['spikeTime','cellID'],\n",
    "    \"CellType\"  :   ['cellType'],\n",
    "    \"WakeEpoch\" :   ['behaviorStart','behaviorEnd'],\n",
    "    \"SwsPost\"   :   ['behaviorStart','behaviorEnd'],\n",
    "    \"SwsPre\"    :   ['behaviorStart','behaviorEnd'],\n",
    "    \"Pos\"       :   ['time','x','y']\n",
    "}\n",
    "\n",
    "df_column_specs = { # pd.read_fwf() incorrectly infers spacing of the long time numbers from the default 100 first rows. Times range to 9 spaces (8 digits + decimal), but first 100 rows do not represent this.\n",
    "    \"Behavior\"  :   [(0,9),(10,20),(26,33),(36,41),(46,52),(56,61)],\n",
    "    \"SpikeData\" :   [(0,9),(10,20)]\n",
    "    # ,\n",
    "    # \"CellType\"  :   'infer',\n",
    "    # \"WakeEpoch\" :   'infer',\n",
    "    # \"SwsPost\"   :   'infer',\n",
    "    # \"SwsPre\"    :   'infer',\n",
    "    # \"Pos\"       :   'infer'\n",
    "}"
   ]
  },
  {
   "cell_type": "code",
   "execution_count": null,
   "metadata": {},
   "outputs": [],
   "source": [
    "# get all the files in data_folder\n",
    "dir = os.listdir(data_folder)\n",
    "\n",
    "# alphabetical sort\n",
    "dir = sorted(dir)\n",
    "\n",
    "# remove os files like ds_store; all the data folders are numeric (session ID: IDMMDD - ID: animal number, MM: month, DD: day)\n",
    "for q in dir:\n",
    "    if not q.isnumeric():\n",
    "        dir.remove(q)\n",
    "\n",
    "# dir"
   ]
  },
  {
   "cell_type": "code",
   "execution_count": null,
   "metadata": {},
   "outputs": [],
   "source": [
    "def get_df_from_file(df_id, session_id):\n",
    "    name = \"%s_%s\"%(session_id,df_id)\n",
    "    file_name = \"%s/%s/%s_%s.dat\"%(data_folder,session_id,session_id,df_id)\n",
    "\n",
    "    cols = df_headers.get(df_id)\n",
    "    assert cols != None, \"Invalid dataframe Id\"\n",
    "    \n",
    "    colspecs = df_column_specs.get(df_id)\n",
    "    if colspecs is None:\n",
    "        colspecs='infer' #read_fwf should have no trouble inferring these cols\n",
    "\n",
    "    df = pd.read_fwf(file_name, name=cols, header=None, colspecs=colspecs)\n",
    "    df.name = name\n",
    "    df.columns = cols\n",
    "\n",
    "    if df_id == \"SpikeData\":\n",
    "        df['cellID'] = df['cellID'].astype('int8')\n",
    "\n",
    "    return df"
   ]
  },
  {
   "cell_type": "code",
   "execution_count": null,
   "metadata": {},
   "outputs": [],
   "source": [
    "# todo: cycle through all sessions\n",
    "session_id = '150628' # 6dig; IDMMDD - animal ID, month, day\n",
    "\n",
    "# get all the dataframes we have for this session\n",
    "# ~30s\n",
    "beh_df       = get_df_from_file(\"Behavior\", session_id)\n",
    "spike_df     = get_df_from_file(\"SpikeData\", session_id)\n",
    "cell_df      = get_df_from_file(\"CellType\", session_id)\n",
    "wake_df      = get_df_from_file(\"WakeEpoch\", session_id)\n",
    "sws_pre_df   = get_df_from_file(\"SwsPre\", session_id)\n",
    "sws_post_df  = get_df_from_file(\"SwsPost\", session_id)\n",
    "pos_df       = get_df_from_file(\"Pos\", session_id)"
   ]
  },
  {
   "cell_type": "code",
   "execution_count": null,
   "metadata": {},
   "outputs": [],
   "source": [
    "# show head of each\n",
    "\n",
    "# print(\"---BEHAVIOR---\")\n",
    "# print(beh_df.head())\n",
    "\n",
    "print(\"\\n---SPIKE DATA---\")\n",
    "print(spike_df.head())\n",
    "spike_df['cellID'].dtype\n",
    "\n",
    "# print(\"\\n---CELL TYPE---\")\n",
    "# print(cell_df.head())\n",
    "\n",
    "# print(\"\\n---WAKE---\")\n",
    "# print(wake_df.head())\n",
    "\n",
    "# print(\"\\n---SWS PRE TIMES---\")\n",
    "# print(sws_pre_df.head())\n",
    "\n",
    "# print(\"\\n---SWS POST TIMES---\")\n",
    "# print(sws_post_df.head())\n",
    "\n",
    "# print(\"\\n---POSITION---\")\n",
    "# print(pos_df.head())"
   ]
  },
  {
   "cell_type": "code",
   "execution_count": null,
   "metadata": {},
   "outputs": [],
   "source": [
    "# empty_channel: ensure that there is a \"sample\" for each timepoint\n",
    "# takes a long time; easier to make once and drop rows to match max for each\n",
    "\n",
    "# max time: 30pre + 40beh + 30post = 100 minutes * 6e4 ms/min * 10 samples/ms\n",
    "# (~30s, one time)\n",
    "max_time_length = int(100 * 6e4 * 10)\n",
    "\n",
    "empty_channel = pd.DataFrame()\n",
    "empty_channel['spikeTime'] = list(range(0,max_time_length+1))\n",
    "empty_channel['cellID'] = np.int8(-1)\n",
    "\n",
    "def spike_to_time_domain(spike_sd):\n",
    "    \"\"\"\n",
    "    Converts spike-domain data to time-domain\n",
    "    spike_sd: spike domain spike data\n",
    "    \n",
    "    return time_sd (time domain spike data)\n",
    "    (~100s per session)\n",
    "    \"\"\"\n",
    "\n",
    "    #---add correct length empty channel for continuity (~7s)---#\n",
    "    time_length = (spike_df.max()['spikeTime']*10).astype(int)\n",
    "    spike_sd_ext = pd.concat(objs=[empty_channel.drop(list(range(time_length,max_time_length+1))), spike_sd])\n",
    "    \n",
    "    #---pivot to time domain (~90s)---#\n",
    "    spike_sd_ext['spike']=True\n",
    "    time_sd = spike_sd_ext.pivot(index=\"cellID\", columns=\"spikeTime\",values=\"spike\")\n",
    "    \n",
    "    # todo: drop empty channel - why does this take so long??\n",
    "    # time_sd.drop(index=-1)\n",
    "    return time_sd"
   ]
  },
  {
   "cell_type": "code",
   "execution_count": null,
   "metadata": {},
   "outputs": [],
   "source": [
    "time_sd = spike_to_time_domain(spike_df)\n",
    "time_sd"
   ]
  },
  {
   "cell_type": "code",
   "execution_count": null,
   "metadata": {},
   "outputs": [],
   "source": [
    "def freq_transform(time_domain_spike_data, epochs):    \n",
    "    # weighted average (by time length) of spectrograms for a given behavior state\n",
    "    # spectrogram for each neuron\n",
    "    # \n",
    "    # format:\n",
    "    # neuron |    10Hz    100Hz   1000Hz\n",
    "    # 1       |    7       0       4\n",
    "    # 2       |    1       1       1\n",
    "    # 3       |    ...etc\n",
    "    # 4       |\n",
    "    # 5       |\n",
    "    \n",
    "\n",
    "    return\n",
    "\n",
    "def freq_correlation(time_domain_spike_data,swsPre_data,wake_df):\n",
    "    # todo\n",
    "    # for each neuron, correlation = (sws_pre_spectrogram) * (wake_spectrogram)' {dot product}\n",
    "\n",
    "    # todo: cut sessions with >1 rule\n",
    "    return"
   ]
  },
  {
   "cell_type": "code",
   "execution_count": null,
   "metadata": {},
   "outputs": [],
   "source": [
    "# FINAL DF:\n",
    "# features:\n",
    "#   - session rule          R/L/light/dark (1 hot coded); check order\n",
    "#   - light-based rule?     T if rule=light/dark, false if rule=L/R (direction-based)\n",
    "#   - frequency corr        by neuron; see function freq_correlation\n",
    "#   - cell types            by neuron"
   ]
  }
 ],
 "metadata": {
  "interpreter": {
   "hash": "9e52dd4f0efe6e3712a5d76479d80323213a4b41eaad21ed6c0a378b0cce3c3a"
  },
  "kernelspec": {
   "display_name": "Python 3.8.12 ('acn5314group3')",
   "language": "python",
   "name": "python3"
  },
  "language_info": {
   "codemirror_mode": {
    "name": "ipython",
    "version": 3
   },
   "file_extension": ".py",
   "mimetype": "text/x-python",
   "name": "python",
   "nbconvert_exporter": "python",
   "pygments_lexer": "ipython3",
   "version": "3.8.12"
  },
  "orig_nbformat": 4
 },
 "nbformat": 4,
 "nbformat_minor": 2
}
