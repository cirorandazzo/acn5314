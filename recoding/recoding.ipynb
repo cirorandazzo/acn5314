{
 "cells": [
  {
   "cell_type": "markdown",
   "metadata": {},
   "source": [
    "recoding.ipynb\n",
    "\n",
    "Recode data for ACN5314 Group Project, CRCNS pfc-6 data.\n",
    "\n",
    "I am using Python since Athul's CMPUtils is broken for Mac and he did not provide any solution... I will make sure that this output is compatible with Julia.\n",
    "\n",
    "Last edit:  09 MAR 2022, CDR ||\n",
    "Created:    08 MAR 2022, CDR"
   ]
  },
  {
   "cell_type": "code",
   "execution_count": null,
   "metadata": {},
   "outputs": [],
   "source": [
    "import pandas as pd"
   ]
  },
  {
   "cell_type": "code",
   "execution_count": 38,
   "metadata": {},
   "outputs": [],
   "source": [
    "# DECLARE GLOBALS\n",
    "\n",
    "\n",
    "# Folder containing all session data\n",
    "dataFolder = '../pfc-6/mPFC_Data'\n",
    "\n",
    "# column headers (see pfc-6 documentation for details)\n",
    "columnHeaders = {\n",
    "    \"Behavior\"  :    ['trialStart', 'trialEnd', 'rule', 'correct', 'direction','lightPos'],\n",
    "    \"SpikeData\" :   ['spikeTime','cellID'],\n",
    "    \"CellType\"  :   ['cellType'],\n",
    "    \"Wake\"      :   ['behaviorStart','behaviorEnd'],\n",
    "    \"SwsPost\"   :   ['behaviorStart','behaviorEnd'],\n",
    "    \"SwsPre\"    :   ['behaviorStart','behaviorEnd'],\n",
    "    \"Pos\"       :   ['time','x','y']\n",
    "}"
   ]
  },
  {
   "cell_type": "code",
   "execution_count": null,
   "metadata": {},
   "outputs": [],
   "source": [
    "# get all the files in dataFolder\n",
    "dir = os.listdir(dataFolder)\n",
    "\n",
    "# alphabetical sort\n",
    "dir = sorted(dir)\n",
    "\n",
    "# remove os files like ds_store; all the data folders are numeric (session ID: IDMMDD - ID: animal number, MM: month, DD: day)\n",
    "for q in dir:\n",
    "    if not q.isnumeric():\n",
    "        dir.remove(q)\n",
    "\n",
    "# dir"
   ]
  },
  {
   "cell_type": "code",
   "execution_count": 47,
   "metadata": {},
   "outputs": [],
   "source": [
    "def getDfFromFile(dfId, sessionId):\n",
    "    name = \"%s_%s\"%(sessionId,dfId)\n",
    "    fileName = \"%s/%s/.dat\"%(dataFolder,sessionId,name)\n",
    "\n",
    "    cols = columnHeaders.get(dfId)\n",
    "    assert cols != None, \"Invalid dataframe Id\"\n",
    "\n",
    "    df = pd.read_fwf(fileName, name=cols, header=None)\n",
    "    df.name = \n",
    "\n",
    "    return df"
   ]
  },
  {
   "cell_type": "code",
   "execution_count": 48,
   "metadata": {},
   "outputs": [],
   "source": [
    "sessionId = '150628' # 6dig; IDMMDD - animal ID, month, day\n",
    "\n",
    "# get all the dataframes we have for this session\n",
    "behDf = getDfFromFile('Behavior', sessionId)\n",
    "\n",
    "# todo: fix problem where header rows don't add??"
   ]
  },
  {
   "cell_type": "code",
   "execution_count": 35,
   "metadata": {},
   "outputs": [
    {
     "name": "stdout",
     "output_type": "stream",
     "text": [
      "1\n",
      "None\n"
     ]
    }
   ],
   "source": []
  },
  {
   "cell_type": "code",
   "execution_count": null,
   "metadata": {},
   "outputs": [],
   "source": []
  }
 ],
 "metadata": {
  "interpreter": {
   "hash": "9e52dd4f0efe6e3712a5d76479d80323213a4b41eaad21ed6c0a378b0cce3c3a"
  },
  "kernelspec": {
   "display_name": "Python 3.8.12 ('acn5314group3')",
   "language": "python",
   "name": "python3"
  },
  "language_info": {
   "codemirror_mode": {
    "name": "ipython",
    "version": 3
   },
   "file_extension": ".py",
   "mimetype": "text/x-python",
   "name": "python",
   "nbconvert_exporter": "python",
   "pygments_lexer": "ipython3",
   "version": "3.8.12"
  },
  "orig_nbformat": 4
 },
 "nbformat": 4,
 "nbformat_minor": 2
}
