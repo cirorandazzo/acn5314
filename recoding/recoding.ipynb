{
 "cells": [
  {
   "cell_type": "markdown",
   "metadata": {},
   "source": [
    "recoding.ipynb\n",
    "\n",
    "Recode data for ACN5314 Group Project, CRCNS pfc-6 data.\n",
    "\n",
    "I am using Python since Athul's CMPUtils is broken for Mac and he did not provide any solution... I will make sure that this output is compatible with Julia.\n",
    "\n",
    "Last edit:  09 MAR 2022, CDR ||\n",
    "Created:    08 MAR 2022, CDR"
   ]
  },
  {
   "cell_type": "code",
   "execution_count": 2,
   "metadata": {},
   "outputs": [],
   "source": [
    "import pandas as pd\n",
    "import numpy as np"
   ]
  },
  {
   "cell_type": "code",
   "execution_count": null,
   "metadata": {},
   "outputs": [],
   "source": [
    "# DECLARE GLOBALS\n",
    "\n",
    "\n",
    "# Folder containing all session data\n",
    "data_folder = '../pfc-6/mPFC_Data'\n",
    "\n",
    "# column headers (see pfc-6 documentation for details)\n",
    "df_headers = {\n",
    "    \"Behavior\"  :    ['trialStart', 'trialEnd', 'rule', 'correct', 'direction','lightPos'],\n",
    "    \"SpikeData\" :   ['spikeTime','cellID'],\n",
    "    \"CellType\"  :   ['cellType'],\n",
    "    \"WakeEpoch\" :   ['behaviorStart','behaviorEnd'],\n",
    "    \"SwsPost\"   :   ['behaviorStart','behaviorEnd'],\n",
    "    \"SwsPre\"    :   ['behaviorStart','behaviorEnd'],\n",
    "    \"Pos\"       :   ['time','x','y']\n",
    "}\n",
    "\n",
    "df_column_specs = { # pd.read_fwf() incorrectly infers spacing of the long time numbers from the default 100 first rows. Times range to 9 spaces (8 digits + decimal), but first 100 rows do not represent this.\n",
    "    \"Behavior\"  :   [(0,9),(10,20),(26,33),(36,41),(46,52),(56,61)],\n",
    "    \"SpikeData\" :   [(0,9),(10,20)]\n",
    "    # ,\n",
    "    # \"CellType\"  :   'infer',\n",
    "    # \"WakeEpoch\" :   'infer',\n",
    "    # \"SwsPost\"   :   'infer',\n",
    "    # \"SwsPre\"    :   'infer',\n",
    "    # \"Pos\"       :   'infer'\n",
    "}"
   ]
  },
  {
   "cell_type": "code",
   "execution_count": null,
   "metadata": {},
   "outputs": [],
   "source": [
    "# get all the files in dataFolder\n",
    "dir = os.listdir(dataFolder)\n",
    "\n",
    "# alphabetical sort\n",
    "dir = sorted(dir)\n",
    "\n",
    "# remove os files like ds_store; all the data folders are numeric (session ID: IDMMDD - ID: animal number, MM: month, DD: day)\n",
    "for q in dir:\n",
    "    if not q.isnumeric():\n",
    "        dir.remove(q)\n",
    "\n",
    "dir"
   ]
  },
  {
   "cell_type": "code",
   "execution_count": null,
   "metadata": {},
   "outputs": [],
   "source": [
    "def get_df_from_file(df_id, session_id):\n",
    "    name = \"%s_%s\"%(session_id,df_id)\n",
    "    file_name = \"%s/%s/%s_%s.dat\"%(data_folder,session_id,session_id,df_id)\n",
    "\n",
    "    cols = df_headers.get(df_id)\n",
    "    assert cols != None, \"Invalid dataframe Id\"\n",
    "    \n",
    "    col_specs = df_column_specs.get(df_id)\n",
    "    if col_specs is None:\n",
    "        col_specs='infer' #read_fwf should have no trouble inferring these cols\n",
    "\n",
    "    df = pd.read_fwf(file_name, name=cols, header=None, colspecs=col_specs)\n",
    "    df.name = name\n",
    "    df.columns = cols\n",
    "\n",
    "    return df"
   ]
  },
  {
   "cell_type": "code",
   "execution_count": null,
   "metadata": {},
   "outputs": [],
   "source": [
    "# todo: cycle through all sessions\n",
    "session_id = '150628' # 6dig; IDMMDD - animal ID, month, day\n",
    "\n",
    "# get all the dataframes we have for this session\n",
    "beh_df       = get_df_from_file(\"Behavior\", session_id)\n",
    "spike_df     = get_df_from_file(\"SpikeData\", session_id)\n",
    "cell_df      = get_df_from_file(\"CellType\", session_id)\n",
    "wake_df      = get_df_from_file(\"WakeEpoch\", session_id)\n",
    "swsPre_df    = get_df_from_file(\"SwsPre\", session_id)\n",
    "swsPost_df   = get_df_from_file(\"SwsPost\", session_id)\n",
    "pos_df       = get_df_from_file(\"Pos\", session_id)"
   ]
  },
  {
   "cell_type": "code",
   "execution_count": null,
   "metadata": {},
   "outputs": [],
   "source": [
    "def min_to_ms(min):\n",
    "    return min * 60000\n",
    "\n",
    "# todo: include default time length(s) - don't make a new np.zeros each time\n",
    "# behavior_shape_zeros = np.zeros(shape=[31,DEFAULTTIMELENGTH])\n",
    "\n",
    "def fill_spike_zeros(spike_data, trial_length):\n",
    "    # spike_data: spike_data\n",
    "    # trial_length: total minutes\n",
    "\n",
    "    assert spike_data.max()[0] < min_to_ms(trial_length), \"%s: Not all data falls within defined trial length.\"%(spike_data.name)\n",
    "    \n",
    "    # if trial_length == \n",
    "    # todo: include default tme length\n",
    "\n",
    "    \n",
    "    # todo: finish\n",
    "\n",
    "# todo: pca"
   ]
  },
  {
   "cell_type": "code",
   "execution_count": null,
   "metadata": {},
   "outputs": [],
   "source": []
  }
 ],
 "metadata": {
  "interpreter": {
   "hash": "9e52dd4f0efe6e3712a5d76479d80323213a4b41eaad21ed6c0a378b0cce3c3a"
  },
  "kernelspec": {
   "display_name": "Python 3.8.12 ('acn5314group3')",
   "language": "python",
   "name": "python3"
  },
  "language_info": {
   "codemirror_mode": {
    "name": "ipython",
    "version": 3
   },
   "file_extension": ".py",
   "mimetype": "text/x-python",
   "name": "python",
   "nbconvert_exporter": "python",
   "pygments_lexer": "ipython3",
   "version": "3.8.12"
  },
  "orig_nbformat": 4
 },
 "nbformat": 4,
 "nbformat_minor": 2
}
