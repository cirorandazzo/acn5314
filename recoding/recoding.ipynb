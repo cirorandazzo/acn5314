{
 "cells": [
  {
   "cell_type": "markdown",
   "metadata": {},
   "source": [
    "recoding.ipynb\n",
    "\n",
    "Recode data for ACN5314 Group Project, CRCNS pfc-6 data.\n",
    "\n",
    "I am using Python since Athul's CMPUtils is broken for Mac and he did not provide any solution... I will make sure that this output is compatible with Julia.\n",
    "\n",
    "Last edit:  09 MAR 2022, CDR ||\n",
    "Created:    08 MAR 2022, CDR"
   ]
  },
  {
   "cell_type": "code",
   "execution_count": 1,
   "metadata": {},
   "outputs": [],
   "source": [
    "import pandas as pd"
   ]
  },
  {
   "cell_type": "code",
   "execution_count": 20,
   "metadata": {},
   "outputs": [],
   "source": [
    "# DECLARE GLOBALS\n",
    "\n",
    "\n",
    "# Folder containing all session data\n",
    "dataFolder = '../pfc-6/mPFC_Data'\n",
    "\n",
    "# column headers (see pfc-6 documentation for details)\n",
    "columnHeaders = {\n",
    "    \"Behavior\"  :    ['trialStart', 'trialEnd', 'rule', 'correct', 'direction','lightPos'],\n",
    "    \"SpikeData\" :   ['spikeTime','cellID'],\n",
    "    \"CellType\"  :   ['cellType'],\n",
    "    \"WakeEpoch\"      :   ['behaviorStart','behaviorEnd'],\n",
    "    \"SwsPost\"   :   ['behaviorStart','behaviorEnd'],\n",
    "    \"SwsPre\"    :   ['behaviorStart','behaviorEnd'],\n",
    "    \"Pos\"       :   ['time','x','y']\n",
    "}"
   ]
  },
  {
   "cell_type": "code",
   "execution_count": 3,
   "metadata": {},
   "outputs": [],
   "source": [
    "# get all the files in dataFolder\n",
    "dir = os.listdir(dataFolder)\n",
    "\n",
    "# alphabetical sort\n",
    "dir = sorted(dir)\n",
    "\n",
    "# remove os files like ds_store; all the data folders are numeric (session ID: IDMMDD - ID: animal number, MM: month, DD: day)\n",
    "for q in dir:\n",
    "    if not q.isnumeric():\n",
    "        dir.remove(q)\n",
    "\n",
    "# dir"
   ]
  },
  {
   "cell_type": "code",
   "execution_count": 17,
   "metadata": {},
   "outputs": [],
   "source": [
    "def getDfFromFile(dfId, sessionId):\n",
    "    name = \"%s_%s\"%(sessionId,dfId)\n",
    "    fileName = \"%s/%s/%s_%s.dat\"%(dataFolder,sessionId,sessionId,dfId)\n",
    "\n",
    "    cols = columnHeaders.get(dfId)\n",
    "    assert cols != None, \"Invalid dataframe Id\"\n",
    "\n",
    "    df = pd.read_fwf(fileName, name=cols, header=None)\n",
    "    df.name = dfId\n",
    "    df.columns = cols\n",
    "\n",
    "    return df"
   ]
  },
  {
   "cell_type": "code",
   "execution_count": 32,
   "metadata": {},
   "outputs": [],
   "source": [
    "# todo: cycle through all sessions\n",
    "sessionId = '150628' # 6dig; IDMMDD - animal ID, month, day\n",
    "\n",
    "# get all the dataframes we have for this session\n",
    "behDf       = getDfFromFile(\"Behavior\", sessionId)\n",
    "spikeDf     = getDfFromFile(\"SpikeData\", sessionId)\n",
    "cellDf      = getDfFromFile(\"CellType\", sessionId)\n",
    "wakeDf      = getDfFromFile(\"WakeEpoch\", sessionId)\n",
    "swsPreDf    = getDfFromFile(\"SwsPre\", sessionId)\n",
    "swsPostDf   = getDfFromFile(\"SwsPost\", sessionId)\n",
    "posDf       = getDfFromFile(\"Pos\", sessionId)"
   ]
  },
  {
   "cell_type": "code",
   "execution_count": 28,
   "metadata": {},
   "outputs": [
    {
     "name": "stdout",
     "output_type": "stream",
     "text": [
      "BEHAVIOR:\n",
      "   trialStart   trialEnd  rule  correct  direction  lightPos\n",
      "0   1512078.7  1516415.3   1.0      0.0        1.0       1.0\n",
      "1   1541400.8  1558246.9   1.0      0.0        1.0       0.0\n",
      "2   1606616.7  1613722.0   1.0      0.0        1.0       1.0\n",
      "3   1662625.6  1667729.4   1.0      1.0        0.0       0.0\n",
      "4   1728441.9  1732078.0   1.0      0.0        1.0       0.0\n",
      "SPIKE:\n",
      "   spikeTime  cellID\n",
      "0      323.2     1.0\n",
      "1     1035.2     1.0\n",
      "2     5830.2     1.0\n",
      "3     7425.0     1.0\n",
      "4     8025.3     1.0\n",
      "CELL TYPE:\n",
      "   cellType\n",
      "0         1\n",
      "1         2\n",
      "2         2\n",
      "3         2\n",
      "4         2\n"
     ]
    }
   ],
   "source": [
    "print(\"BEHAVIOR:\")\n",
    "print(behDf.head())\n",
    "\n",
    "print(\"SPIKE:\")\n",
    "print(spikeDf.head())\n",
    "\n",
    "print(\"CELL TYPE:\")\n",
    "print(cellDf.head())"
   ]
  },
  {
   "cell_type": "code",
   "execution_count": 33,
   "metadata": {},
   "outputs": [
    {
     "name": "stdout",
     "output_type": "stream",
     "text": [
      "WAKE EPOCH:\n",
      "   behaviorStart  behaviorEnd\n",
      "0      1494765.7    3191011.7\n",
      "SWS PRE:\n",
      "   behaviorStart  behaviorEnd\n",
      "0        67016.2     123996.6\n",
      "1       573005.2    1150011.3\n",
      "2      1213993.5    1304015.2\n",
      "SWS POST:\n",
      "   behaviorStart  behaviorEnd\n",
      "0      3603022.4    3751000.7\n",
      "1      3922029.7    3990014.3\n",
      "2      4061001.1    4506003.4\n"
     ]
    }
   ],
   "source": [
    "print(\"WAKE EPOCH:\")\n",
    "print(wakeDf.head())\n",
    "\n",
    "print(\"SWS PRE:\")\n",
    "print(swsPreDf.head())\n",
    "\n",
    "print(\"SWS POST:\")\n",
    "print(swsPostDf.head())"
   ]
  },
  {
   "cell_type": "code",
   "execution_count": null,
   "metadata": {},
   "outputs": [],
   "source": []
  }
 ],
 "metadata": {
  "interpreter": {
   "hash": "9e52dd4f0efe6e3712a5d76479d80323213a4b41eaad21ed6c0a378b0cce3c3a"
  },
  "kernelspec": {
   "display_name": "Python 3.8.12 ('acn5314group3')",
   "language": "python",
   "name": "python3"
  },
  "language_info": {
   "codemirror_mode": {
    "name": "ipython",
    "version": 3
   },
   "file_extension": ".py",
   "mimetype": "text/x-python",
   "name": "python",
   "nbconvert_exporter": "python",
   "pygments_lexer": "ipython3",
   "version": "3.8.12"
  },
  "orig_nbformat": 4
 },
 "nbformat": 4,
 "nbformat_minor": 2
}
