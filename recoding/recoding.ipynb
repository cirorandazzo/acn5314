{
 "cells": [
  {
   "cell_type": "markdown",
   "metadata": {},
   "source": [
    "recoding.ipynb\n",
    "\n",
    "Recoding data for ACN5314 Group Project, CRCNS pfc-6 data.\n",
    "\n",
    "Last edit:  07 APR 2022, CDR ||\n",
    "Created:    08 MAR 2022, CDR"
   ]
  },
  {
   "cell_type": "code",
   "execution_count": 1,
   "metadata": {},
   "outputs": [],
   "source": [
    "import pandas as pd\n",
    "import numpy as np\n",
    "from scipy import fft\n",
    "# import matplotlib.pyplot as plt"
   ]
  },
  {
   "cell_type": "code",
   "execution_count": 2,
   "metadata": {},
   "outputs": [],
   "source": [
    "# DECLARE GLOBALS\n",
    "\n",
    "\n",
    "# Folder containing all session data\n",
    "data_folder = '../pfc-6/mPFC_Data'\n",
    "\n",
    "# column headers (see pfc-6 documentation for details)\n",
    "df_headers = {\n",
    "    \"Behavior\"  :    ['trialStart', 'trialEnd', 'rule', 'correct', 'direction','lightPos'],\n",
    "    \"SpikeData\" :   ['spikeTime','cellID'],\n",
    "    \"CellType\"  :   ['cellType'],\n",
    "    \"WakeEpoch\" :   ['behaviorStart','behaviorEnd'],\n",
    "    \"SwsPost\"   :   ['behaviorStart','behaviorEnd'],\n",
    "    \"SwsPre\"    :   ['behaviorStart','behaviorEnd'],\n",
    "    \"Pos\"       :   ['time','x','y']\n",
    "}\n",
    "\n",
    "df_column_specs = { # pd.read_fwf() incorrectly infers spacing of the long time numbers from the default 100 first rows. Times range to 9 spaces (8 digits + decimal), but first 100 rows do not represent this.\n",
    "    \"Behavior\"  :   [(0,9),(10,20),(26,33),(36,41),(46,52),(56,61)],\n",
    "    \"SpikeData\" :   [(0,9),(10,20)]\n",
    "    # ,\n",
    "    # \"CellType\"  :   'infer',\n",
    "    # \"WakeEpoch\" :   'infer',\n",
    "    # \"SwsPost\"   :   'infer',\n",
    "    # \"SwsPre\"    :   'infer',\n",
    "    # \"Pos\"       :   'infer'\n",
    "}"
   ]
  },
  {
   "cell_type": "code",
   "execution_count": 3,
   "metadata": {},
   "outputs": [],
   "source": [
    "# get all the files in data_folder\n",
    "dir = os.listdir(data_folder)\n",
    "\n",
    "# alphabetical sort\n",
    "dir = sorted(dir)\n",
    "\n",
    "# remove os files like ds_store; all the data folders are numeric (session ID: IDMMDD - ID: animal number, MM: month, DD: day)\n",
    "for q in dir:\n",
    "    if not q.isnumeric():\n",
    "        dir.remove(q)\n",
    "\n",
    "# dir"
   ]
  },
  {
   "cell_type": "code",
   "execution_count": 4,
   "metadata": {},
   "outputs": [],
   "source": [
    "def get_df_from_file(df_id, session_id):\n",
    "    \"\"\"\n",
    "    Read in specified .dat file\n",
    "    df_id: String; which df type to read in. DF types, described in dataset documentation, can be:\n",
    "        \"Behavior\"\n",
    "        \"SpikeData\"\n",
    "        \"CellType\"\n",
    "        \"WakeEpoch\"\n",
    "        \"SwsPost\"\n",
    "        \"SwsPre\"\n",
    "        \"Pos\"\n",
    "    session_id: numeric rat/session. 6 digits: ID|MM|DD\n",
    "    \"\"\"\n",
    "    name = \"%s_%s\"%(session_id,df_id)\n",
    "    file_name = \"%s/%s/%s_%s.dat\"%(data_folder,session_id,session_id,df_id)\n",
    "\n",
    "    cols = df_headers.get(df_id)\n",
    "    assert cols != None, \"Invalid dataframe Id\"\n",
    "    \n",
    "    colspecs = df_column_specs.get(df_id)\n",
    "    if colspecs is None:\n",
    "        colspecs='infer' #read_fwf should have no trouble inferring these cols\n",
    "\n",
    "    df = pd.read_fwf(file_name, name=cols, header=None, colspecs=colspecs)\n",
    "    df.name = name\n",
    "    df.columns = cols\n",
    "\n",
    "    if df_id == \"SpikeData\":\n",
    "        df['cellID'] = df['cellID'].astype('int8')\n",
    "\n",
    "    return df"
   ]
  },
  {
   "cell_type": "code",
   "execution_count": 5,
   "metadata": {},
   "outputs": [],
   "source": [
    "session_id = '201222' # 6dig; IDMMDD - animal ID, month, day\n",
    "\n",
    "# get all the dataframes we have for this session\n",
    "# ~30s\n",
    "beh_df       = get_df_from_file(\"Behavior\", session_id)\n",
    "spike_df     = get_df_from_file(\"SpikeData\", session_id)\n",
    "cell_df      = get_df_from_file(\"CellType\", session_id)\n",
    "wake_df      = get_df_from_file(\"WakeEpoch\", session_id)\n",
    "sws_pre_df   = get_df_from_file(\"SwsPre\", session_id)\n",
    "sws_post_df  = get_df_from_file(\"SwsPost\", session_id)\n",
    "# pos_df       = get_df_from_file(\"Pos\", session_id)"
   ]
  },
  {
   "cell_type": "code",
   "execution_count": 6,
   "metadata": {},
   "outputs": [],
   "source": [
    "# show head of each dataframe\n",
    "\n",
    "# print(\"---BEHAVIOR---\")\n",
    "# print(beh_df.head())\n",
    "\n",
    "# print(\"\\n---SPIKE DATA---\")\n",
    "# print(spike_df.head())\n",
    "\n",
    "# print(\"\\n---CELL TYPE---\")\n",
    "# print(cell_df.head())\n",
    "\n",
    "# print(\"\\n---WAKE---\")\n",
    "# print(wake_df.head())\n",
    "\n",
    "# print(\"\\n---SWS PRE TIMES---\")\n",
    "# print(sws_pre_df.head())\n",
    "\n",
    "# print(\"\\n---SWS POST TIMES---\")\n",
    "# print(sws_post_df.head())\n",
    "\n",
    "# print(\"\\n---POSITION---\")\n",
    "# print(pos_df.head())"
   ]
  },
  {
   "cell_type": "code",
   "execution_count": 7,
   "metadata": {},
   "outputs": [],
   "source": [
    "def make_bins(spike_df, timing_df, bin_length, behavior=False):\n",
    "    '''\n",
    "    spike_df:               pd dataframe storing spike data\n",
    "    timing_df:              pd dataframe storing session times (sws_pre_df, sws_post_df, or beh_df)\n",
    "    bin_length (Δt, in ms): length of bins\n",
    "    \n",
    "    behavior (def=False):   if \"True\", takes in behavior dataframe. output has  one extra column, \"correct\", which stores whether animal followed the rule during the trial this bin came from\n",
    "    '''\n",
    "    \n",
    "    df = pd.DataFrame(columns=pd.RangeIndex(start=1,stop=32),dtype=np.int64)\n",
    "    if behavior: df.insert(len(df.columns), 'correct', None)\n",
    "\n",
    "    for b in timing_df.iterrows():\n",
    "        if behavior:\n",
    "            start = b[1]['trialStart']\n",
    "            end = b[1]['trialEnd']\n",
    "            trial_correct = b[1]['correct']\n",
    "            df\n",
    "        else:\n",
    "            start = b[1]['behaviorStart']\n",
    "            end = b[1]['behaviorEnd']\n",
    "\n",
    "        for bin_start in np.arange(start,end,bin_length):\n",
    "            # Get spikes occuring during this bin\n",
    "            bin_spikes = spike_df.loc[(spike_df['spikeTime']>=bin_start) & (spike_df['spikeTime']< bin_start+bin_length)]\n",
    "            \n",
    "            # Number of spikes by cell ID\n",
    "            counts = bin_spikes['cellID'].value_counts()\n",
    "\n",
    "            # Add new bin to df\n",
    "            df.loc[bin_start] = counts\n",
    "            if behavior: df.loc[bin_start]['correct']=trial_correct\n",
    "    return(df.fillna(0).astype(np.int64))\n",
    "\n",
    "    "
   ]
  },
  {
   "cell_type": "code",
   "execution_count": 8,
   "metadata": {},
   "outputs": [],
   "source": [
    "pre_sws_bins = make_bins(spike_df, timing_df=sws_pre_df, bin_length=100)\n",
    "pre_sws_bins.to_csv('./recoded_data/201222_pre_sws_binned')"
   ]
  },
  {
   "cell_type": "code",
   "execution_count": 9,
   "metadata": {},
   "outputs": [],
   "source": [
    "post_sws_bins = make_bins(spike_df, timing_df=sws_post_df, bin_length=100)\n",
    "post_sws_bins.to_csv('./recoded_data/201222_post_sws_binned')"
   ]
  },
  {
   "cell_type": "code",
   "execution_count": 10,
   "metadata": {},
   "outputs": [],
   "source": [
    "beh_bins = make_bins(spike_df, timing_df=beh_df, bin_length=100, behavior=True)\n",
    "beh_bins.to_csv('./recoded_data/201222_beh_binned')"
   ]
  }
 ],
 "metadata": {
  "interpreter": {
   "hash": "9e52dd4f0efe6e3712a5d76479d80323213a4b41eaad21ed6c0a378b0cce3c3a"
  },
  "kernelspec": {
   "display_name": "Python 3.8.12 ('acn5314group3')",
   "language": "python",
   "name": "python3"
  },
  "language_info": {
   "codemirror_mode": {
    "name": "ipython",
    "version": 3
   },
   "file_extension": ".py",
   "mimetype": "text/x-python",
   "name": "python",
   "nbconvert_exporter": "python",
   "pygments_lexer": "ipython3",
   "version": "3.8.12"
  },
  "orig_nbformat": 4
 },
 "nbformat": 4,
 "nbformat_minor": 2
}
