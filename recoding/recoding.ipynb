{
 "cells": [
  {
   "cell_type": "markdown",
   "metadata": {},
   "source": [
    "recoding.ipynb\n",
    "\n",
    "Recode data for ACN5314 Group Project, CRCNS pfc-6 data.\n",
    "\n",
    "I am using Python since Athul's CMPUtils is broken for Mac and he did not provide any solution... I will make sure that this output is compatible with Julia.\n",
    "\n",
    "Last edit:  09 MAR 2022, CDR ||\n",
    "Created:    08 MAR 2022, CDR"
   ]
  },
  {
   "cell_type": "code",
   "execution_count": 1,
   "metadata": {},
   "outputs": [],
   "source": [
    "import pandas as pd"
   ]
  },
  {
   "cell_type": "code",
   "execution_count": 52,
   "metadata": {},
   "outputs": [],
   "source": [
    "# DECLARE GLOBALS\n",
    "\n",
    "\n",
    "# Folder containing all session data\n",
    "dataFolder = '../pfc-6/mPFC_Data'\n",
    "\n",
    "# column headers (see pfc-6 documentation for details)\n",
    "dfHeaders = {\n",
    "    \"Behavior\"  :    ['trialStart', 'trialEnd', 'rule', 'correct', 'direction','lightPos'],\n",
    "    \"SpikeData\" :   ['spikeTime','cellID'],\n",
    "    \"CellType\"  :   ['cellType'],\n",
    "    \"WakeEpoch\" :   ['behaviorStart','behaviorEnd'],\n",
    "    \"SwsPost\"   :   ['behaviorStart','behaviorEnd'],\n",
    "    \"SwsPre\"    :   ['behaviorStart','behaviorEnd'],\n",
    "    \"Pos\"       :   ['time','x','y']\n",
    "}\n",
    "\n",
    "dfColumnSpecs = { # pd.read_fwf() incorrectly infers spacing of the long time numbers from the default 100 first rows. Times range to 9 spaces (8 digits + decimal), but first 100 rows do not represent this.\n",
    "    \"Behavior\"  :   [(0,9),(10,20),(26,33),(36,41),(46,52),(56,61)],\n",
    "    \"SpikeData\" :   [(0,9),(10,20)]\n",
    "    # ,\n",
    "    # \"CellType\"  :   'infer',\n",
    "    # \"WakeEpoch\" :   'infer',\n",
    "    # \"SwsPost\"   :   'infer',\n",
    "    # \"SwsPre\"    :   'infer',\n",
    "    # \"Pos\"       :   'infer'\n",
    "}"
   ]
  },
  {
   "cell_type": "code",
   "execution_count": null,
   "metadata": {},
   "outputs": [],
   "source": [
    "# get all the files in dataFolder\n",
    "dir = os.listdir(dataFolder)\n",
    "\n",
    "# alphabetical sort\n",
    "dir = sorted(dir)\n",
    "\n",
    "# remove os files like ds_store; all the data folders are numeric (session ID: IDMMDD - ID: animal number, MM: month, DD: day)\n",
    "for q in dir:\n",
    "    if not q.isnumeric():\n",
    "        dir.remove(q)\n",
    "\n",
    "dir"
   ]
  },
  {
   "cell_type": "code",
   "execution_count": 34,
   "metadata": {},
   "outputs": [],
   "source": [
    "def getDfFromFile(dfId, sessionId):\n",
    "    name = \"%s_%s\"%(sessionId,dfId)\n",
    "    fileName = \"%s/%s/%s_%s.dat\"%(dataFolder,sessionId,sessionId,dfId)\n",
    "\n",
    "    cols = dfHeaders.get(dfId)\n",
    "    assert cols != None, \"Invalid dataframe Id\"\n",
    "    \n",
    "    colSpecs = dfColumnSpecs.get(dfId)\n",
    "    if colSpecs is None:\n",
    "        colSpecs='infer' #read_fwf should have no trouble inferring these cols\n",
    "\n",
    "    df = pd.read_fwf(fileName, name=cols, header=None, colspecs=colSpecs)\n",
    "    df.name = dfId\n",
    "    df.columns = cols\n",
    "\n",
    "    return df"
   ]
  },
  {
   "cell_type": "code",
   "execution_count": 53,
   "metadata": {},
   "outputs": [],
   "source": [
    "# todo: cycle through all sessions\n",
    "sessionId = '150628' # 6dig; IDMMDD - animal ID, month, day\n",
    "\n",
    "# get all the dataframes we have for this session\n",
    "behDf       = getDfFromFile(\"Behavior\", sessionId)\n",
    "spikeDf     = getDfFromFile(\"SpikeData\", sessionId)\n",
    "cellDf      = getDfFromFile(\"CellType\", sessionId)\n",
    "wakeDf      = getDfFromFile(\"WakeEpoch\", sessionId)\n",
    "swsPreDf    = getDfFromFile(\"SwsPre\", sessionId)\n",
    "swsPostDf   = getDfFromFile(\"SwsPost\", sessionId)\n",
    "posDf       = getDfFromFile(\"Pos\", sessionId)"
   ]
  },
  {
   "cell_type": "code",
   "execution_count": 54,
   "metadata": {},
   "outputs": [
    {
     "name": "stdout",
     "output_type": "stream",
     "text": [
      "BEHAVIOR:\n",
      "   trialStart   trialEnd  rule  correct  direction  lightPos\n",
      "0   1512078.7  1516415.3   1.0      0.0        1.0       1.0\n",
      "1   1541400.8  1558246.9   1.0      0.0        1.0       0.0\n",
      "2   1606616.7  1613722.0   1.0      0.0        1.0       1.0\n",
      "3   1662625.6  1667729.4   1.0      1.0        0.0       0.0\n",
      "4   1728441.9  1732078.0   1.0      0.0        1.0       0.0\n",
      "SPIKE:\n",
      "   spikeTime  cellID\n",
      "0      323.2     1.0\n",
      "1     1035.2     1.0\n",
      "2     5830.2     1.0\n",
      "3     7425.0     1.0\n",
      "4     8025.3     1.0\n",
      "CELL TYPE:\n",
      "   cellType\n",
      "0         1\n",
      "1         2\n",
      "2         2\n",
      "3         2\n",
      "4         2\n"
     ]
    }
   ],
   "source": [
    "print \n",
    "print(\"BEHAVIOR:\")\n",
    "print(behDf.head())\n",
    "\n",
    "print(\"SPIKE:\")\n",
    "print(spikeDf.head())\n",
    "\n",
    "print(\"CELL TYPE:\")\n",
    "print(cellDf.head())"
   ]
  },
  {
   "cell_type": "code",
   "execution_count": 19,
   "metadata": {},
   "outputs": [
    {
     "name": "stdout",
     "output_type": "stream",
     "text": [
      "WAKE EPOCH:\n",
      "   behaviorStart  behaviorEnd\n",
      "0      1494765.7    3191011.7\n",
      "SWS PRE:\n",
      "   behaviorStart  behaviorEnd\n",
      "0        67016.2     123996.6\n",
      "1       573005.2    1150011.3\n",
      "2      1213993.5    1304015.2\n",
      "SWS POST:\n",
      "   behaviorStart  behaviorEnd\n",
      "0      3603022.4    3751000.7\n",
      "1      3922029.7    3990014.3\n",
      "2      4061001.1    4506003.4\n"
     ]
    }
   ],
   "source": [
    "print(\"WAKE EPOCH:\")\n",
    "print(wakeDf.head())\n",
    "\n",
    "print(\"SWS PRE:\")\n",
    "print(swsPreDf.head())\n",
    "\n",
    "print(\"SWS POST:\")\n",
    "print(swsPostDf.head())"
   ]
  },
  {
   "cell_type": "code",
   "execution_count": 20,
   "metadata": {},
   "outputs": [],
   "source": [
    "def minToMs(min):\n",
    "    return min * 60000\n",
    "\n",
    "\n",
    "def fillSpikeZeros(spikeData, trialLength):\n",
    "    # spikeData: spikeData\n",
    "    # trialLength: total minutes\n",
    "    assert spikeData.max()[0] < minToMs(trialLength)\n",
    "    pd.zeros()\n",
    "    # todo: finish\n",
    "\n",
    "# todo: pca"
   ]
  },
  {
   "cell_type": "code",
   "execution_count": 57,
   "metadata": {},
   "outputs": [
    {
     "ename": "IndexError",
     "evalue": "single positional indexer is out-of-bounds",
     "output_type": "error",
     "traceback": [
      "\u001b[0;31m---------------------------------------------------------------------------\u001b[0m",
      "\u001b[0;31mIndexError\u001b[0m                                Traceback (most recent call last)",
      "\u001b[1;32m/Users/cirorandazzo/Documents/ACN5314-Neuro3/recoding/recoding.ipynb Cell 10'\u001b[0m in \u001b[0;36m<cell line: 1>\u001b[0;34m()\u001b[0m\n\u001b[0;32m----> <a href='vscode-notebook-cell:/Users/cirorandazzo/Documents/ACN5314-Neuro3/recoding/recoding.ipynb#ch0000009?line=0'>1</a>\u001b[0m spikeDf\u001b[39m.\u001b[39;49miloc[\u001b[39m455256\u001b[39;49m]\n",
      "File \u001b[0;32m~/opt/anaconda3/envs/acn5314group3/lib/python3.8/site-packages/pandas/core/indexing.py:967\u001b[0m, in \u001b[0;36m_LocationIndexer.__getitem__\u001b[0;34m(self, key)\u001b[0m\n\u001b[1;32m    <a href='file:///Users/cirorandazzo/opt/anaconda3/envs/acn5314group3/lib/python3.8/site-packages/pandas/core/indexing.py?line=963'>964</a>\u001b[0m axis \u001b[39m=\u001b[39m \u001b[39mself\u001b[39m\u001b[39m.\u001b[39maxis \u001b[39mor\u001b[39;00m \u001b[39m0\u001b[39m\n\u001b[1;32m    <a href='file:///Users/cirorandazzo/opt/anaconda3/envs/acn5314group3/lib/python3.8/site-packages/pandas/core/indexing.py?line=965'>966</a>\u001b[0m maybe_callable \u001b[39m=\u001b[39m com\u001b[39m.\u001b[39mapply_if_callable(key, \u001b[39mself\u001b[39m\u001b[39m.\u001b[39mobj)\n\u001b[0;32m--> <a href='file:///Users/cirorandazzo/opt/anaconda3/envs/acn5314group3/lib/python3.8/site-packages/pandas/core/indexing.py?line=966'>967</a>\u001b[0m \u001b[39mreturn\u001b[39;00m \u001b[39mself\u001b[39;49m\u001b[39m.\u001b[39;49m_getitem_axis(maybe_callable, axis\u001b[39m=\u001b[39;49maxis)\n",
      "File \u001b[0;32m~/opt/anaconda3/envs/acn5314group3/lib/python3.8/site-packages/pandas/core/indexing.py:1520\u001b[0m, in \u001b[0;36m_iLocIndexer._getitem_axis\u001b[0;34m(self, key, axis)\u001b[0m\n\u001b[1;32m   <a href='file:///Users/cirorandazzo/opt/anaconda3/envs/acn5314group3/lib/python3.8/site-packages/pandas/core/indexing.py?line=1516'>1517</a>\u001b[0m     \u001b[39mraise\u001b[39;00m \u001b[39mTypeError\u001b[39;00m(\u001b[39m\"\u001b[39m\u001b[39mCannot index by location index with a non-integer key\u001b[39m\u001b[39m\"\u001b[39m)\n\u001b[1;32m   <a href='file:///Users/cirorandazzo/opt/anaconda3/envs/acn5314group3/lib/python3.8/site-packages/pandas/core/indexing.py?line=1518'>1519</a>\u001b[0m \u001b[39m# validate the location\u001b[39;00m\n\u001b[0;32m-> <a href='file:///Users/cirorandazzo/opt/anaconda3/envs/acn5314group3/lib/python3.8/site-packages/pandas/core/indexing.py?line=1519'>1520</a>\u001b[0m \u001b[39mself\u001b[39;49m\u001b[39m.\u001b[39;49m_validate_integer(key, axis)\n\u001b[1;32m   <a href='file:///Users/cirorandazzo/opt/anaconda3/envs/acn5314group3/lib/python3.8/site-packages/pandas/core/indexing.py?line=1521'>1522</a>\u001b[0m \u001b[39mreturn\u001b[39;00m \u001b[39mself\u001b[39m\u001b[39m.\u001b[39mobj\u001b[39m.\u001b[39m_ixs(key, axis\u001b[39m=\u001b[39maxis)\n",
      "File \u001b[0;32m~/opt/anaconda3/envs/acn5314group3/lib/python3.8/site-packages/pandas/core/indexing.py:1452\u001b[0m, in \u001b[0;36m_iLocIndexer._validate_integer\u001b[0;34m(self, key, axis)\u001b[0m\n\u001b[1;32m   <a href='file:///Users/cirorandazzo/opt/anaconda3/envs/acn5314group3/lib/python3.8/site-packages/pandas/core/indexing.py?line=1449'>1450</a>\u001b[0m len_axis \u001b[39m=\u001b[39m \u001b[39mlen\u001b[39m(\u001b[39mself\u001b[39m\u001b[39m.\u001b[39mobj\u001b[39m.\u001b[39m_get_axis(axis))\n\u001b[1;32m   <a href='file:///Users/cirorandazzo/opt/anaconda3/envs/acn5314group3/lib/python3.8/site-packages/pandas/core/indexing.py?line=1450'>1451</a>\u001b[0m \u001b[39mif\u001b[39;00m key \u001b[39m>\u001b[39m\u001b[39m=\u001b[39m len_axis \u001b[39mor\u001b[39;00m key \u001b[39m<\u001b[39m \u001b[39m-\u001b[39mlen_axis:\n\u001b[0;32m-> <a href='file:///Users/cirorandazzo/opt/anaconda3/envs/acn5314group3/lib/python3.8/site-packages/pandas/core/indexing.py?line=1451'>1452</a>\u001b[0m     \u001b[39mraise\u001b[39;00m \u001b[39mIndexError\u001b[39;00m(\u001b[39m\"\u001b[39m\u001b[39msingle positional indexer is out-of-bounds\u001b[39m\u001b[39m\"\u001b[39m)\n",
      "\u001b[0;31mIndexError\u001b[0m: single positional indexer is out-of-bounds"
     ]
    }
   ],
   "source": []
  },
  {
   "cell_type": "code",
   "execution_count": 24,
   "metadata": {},
   "outputs": [
    {
     "name": "stdout",
     "output_type": "stream",
     "text": [
      "None\n"
     ]
    }
   ],
   "source": []
  },
  {
   "cell_type": "code",
   "execution_count": null,
   "metadata": {},
   "outputs": [],
   "source": []
  }
 ],
 "metadata": {
  "interpreter": {
   "hash": "9e52dd4f0efe6e3712a5d76479d80323213a4b41eaad21ed6c0a378b0cce3c3a"
  },
  "kernelspec": {
   "display_name": "Python 3.8.12 ('acn5314group3')",
   "language": "python",
   "name": "python3"
  },
  "language_info": {
   "codemirror_mode": {
    "name": "ipython",
    "version": 3
   },
   "file_extension": ".py",
   "mimetype": "text/x-python",
   "name": "python",
   "nbconvert_exporter": "python",
   "pygments_lexer": "ipython3",
   "version": "3.8.12"
  },
  "orig_nbformat": 4
 },
 "nbformat": 4,
 "nbformat_minor": 2
}
