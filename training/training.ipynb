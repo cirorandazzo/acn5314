{
 "cells": [
  {
   "cell_type": "code",
   "execution_count": null,
   "metadata": {},
   "outputs": [],
   "source": [
    "using DataFrames\n",
    "using CSV\n",
    "using ScikitLearn\n",
    "using PyPlot"
   ]
  },
  {
   "cell_type": "code",
   "execution_count": null,
   "metadata": {},
   "outputs": [],
   "source": [
    "# Data paths\n",
    "beh_data_path = joinpath(pwd(), \"recoded_data/201222_beh_binned.csv\")\n",
    "pre_data_path = joinpath(pwd(), \"recoded_data/201222_pre_sws_binned.csv\")\n",
    "post_data_path = joinpath(pwd(), \"recoded_data/201222_post_sws_binned.csv\");"
   ]
  },
  {
   "cell_type": "code",
   "execution_count": null,
   "metadata": {},
   "outputs": [],
   "source": [
    "# Load data\n",
    "beh = CSV.read(beh_data_path, DataFrame)\n",
    "pre = CSV.read(pre_data_path, DataFrame)\n",
    "post = CSV.read(post_data_path, DataFrame);"
   ]
  },
  {
   "cell_type": "code",
   "execution_count": null,
   "metadata": {},
   "outputs": [],
   "source": [
    "# Split training data (behavior session)\n",
    "X_beh = Array(beh[!,Not([:Column1, :correct])])\n",
    "y_beh = Array(beh[!,:correct])\n",
    "\n",
    "@sk_import model_selection: train_test_split;\n",
    "X_train, X_test, y_train, y_test = train_test_split(X_beh, y_beh, test_size=0.2)"
   ]
  },
  {
   "cell_type": "code",
   "execution_count": null,
   "metadata": {},
   "outputs": [],
   "source": [
    "# Remove time index from sleep data\n",
    "X_pre = Array(pre[!,Not(:Column1)]) \n",
    "X_post = Array(post[!,Not(:Column1)])"
   ]
  },
  {
   "cell_type": "markdown",
   "metadata": {},
   "source": [
    "# Baseline Model: Simple Logistic Regression"
   ]
  },
  {
   "cell_type": "code",
   "execution_count": null,
   "metadata": {},
   "outputs": [],
   "source": [
    "@sk_import linear_model: LogisticRegression\n",
    "@sk_import metrics: accuracy_score;"
   ]
  },
  {
   "cell_type": "code",
   "execution_count": null,
   "metadata": {},
   "outputs": [],
   "source": [
    "# --- train\n",
    "simple_logistic = LogisticRegression(max_iter=10000);\n",
    "\n",
    "fit!(simple_logistic, X_train, y_train);"
   ]
  },
  {
   "cell_type": "code",
   "execution_count": null,
   "metadata": {},
   "outputs": [],
   "source": [
    "# --- check accuracy\n",
    "y_pred_train = predict(simple_logistic, X_train)\n",
    "y_pred_test = predict(simple_logistic, X_test)\n",
    "\n",
    "y_pred_pre = predict(simple_logistic, X_pre)\n",
    "y_pred_post = predict(simple_logistic, X_post)\n",
    "\n",
    "println(\"---Simple Logistic---\")\n",
    "println(\"Train accuracy: \", accuracy_score(y_train, y_pred_train))\n",
    "println(\"Test accuracy: \", accuracy_score(y_test, y_pred_test))\n",
    "\n",
    "println(\"--Sleep Performance--\")\n",
    "pre_pred_corr = sum(y_pred_pre)\n",
    "pre_total = length(y_pred_pre)\n",
    "pre_perc = pre_pred_corr / pre_total * 100\n",
    "\n",
    "post_pred_corr = sum(y_pred_post)\n",
    "post_total = length(y_pred_post)\n",
    "post_perc = post_pred_corr / post_total * 100\n",
    "println(\"Pre: \", pre_pred_corr, \"/\", pre_total, \"(\", pre_perc, \"%) predicted as correct.\")\n",
    "println(\"Post: \", post_pred_corr, \"/\", post_total, \"(\", post_perc, \"%) predicted as correct.\")\n"
   ]
  },
  {
   "cell_type": "code",
   "execution_count": null,
   "metadata": {},
   "outputs": [],
   "source": [
    "# todo: confusion matrix for behavior data.\n",
    "# i have a feeling that the model simply predicts most behavior states as \"correct\""
   ]
  },
  {
   "cell_type": "markdown",
   "metadata": {},
   "source": [
    "Conclusion: simple logistic regression model has poor performance. Most firing patterns are predicted as \"correct\"."
   ]
  }
 ],
 "metadata": {
  "kernelspec": {
   "display_name": "Julia 1.7.1",
   "language": "julia",
   "name": "julia-1.7"
  },
  "language_info": {
   "file_extension": ".jl",
   "mimetype": "application/julia",
   "name": "julia",
   "version": "1.7.1"
  },
  "orig_nbformat": 4
 },
 "nbformat": 4,
 "nbformat_minor": 2
}
